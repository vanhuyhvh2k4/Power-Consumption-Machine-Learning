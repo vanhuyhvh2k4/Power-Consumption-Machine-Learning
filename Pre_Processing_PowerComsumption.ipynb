{
 "cells": [
  {
   "cell_type": "code",
   "execution_count": 1,
   "id": "f78a3955",
   "metadata": {},
   "outputs": [
    {
     "name": "stdout",
     "output_type": "stream",
     "text": [
      "✅ Đã đọc dữ liệu:\n",
      "             Datetime  Temperature  Humidity  WindSpeed  GeneralDiffuseFlows  \\\n",
      "0 2017-01-01 00:00:00        6.559      73.8      0.083                0.051   \n",
      "1 2017-01-01 00:10:00        6.414      74.5      0.083                0.070   \n",
      "2 2017-01-01 00:20:00        6.313      74.5      0.080                0.062   \n",
      "3 2017-01-01 00:30:00        6.121      75.0      0.083                0.091   \n",
      "4 2017-01-01 00:40:00        5.921      75.7      0.081                0.048   \n",
      "\n",
      "   DiffuseFlows  PowerConsumption_Zone1  PowerConsumption_Zone2  \\\n",
      "0         0.119             34055.69620             16128.87538   \n",
      "1         0.085             29814.68354             19375.07599   \n",
      "2         0.100             29128.10127             19006.68693   \n",
      "3         0.096             28228.86076             18361.09422   \n",
      "4         0.085             27335.69620             17872.34043   \n",
      "\n",
      "   PowerConsumption_Zone3  \n",
      "0             20240.96386  \n",
      "1             20131.08434  \n",
      "2             19668.43373  \n",
      "3             18899.27711  \n",
      "4             18442.40964  \n"
     ]
    }
   ],
   "source": [
    "import pandas as pd\n",
    "import numpy as np\n",
    "from sklearn.preprocessing import StandardScaler\n",
    "\n",
    "# Đọc dữ liệu\n",
    "df = pd.read_csv(\"Data/powerconsumption.csv\")\n",
    "df['Datetime'] = pd.to_datetime(df['Datetime'])\n",
    "\n",
    "print(\"✅ Đã đọc dữ liệu:\")\n",
    "print(df.head())\n"
   ]
  },
  {
   "cell_type": "code",
   "execution_count": 2,
   "id": "37cdfa9a",
   "metadata": {},
   "outputs": [
    {
     "name": "stdout",
     "output_type": "stream",
     "text": [
      "✅ Các đặc trưng thời gian đã được thêm:\n",
      "             Datetime  Hour  Day  Month  Weekday\n",
      "0 2017-01-01 00:00:00     0    1      1        6\n",
      "1 2017-01-01 00:10:00     0    1      1        6\n",
      "2 2017-01-01 00:20:00     0    1      1        6\n",
      "3 2017-01-01 00:30:00     0    1      1        6\n",
      "4 2017-01-01 00:40:00     0    1      1        6\n"
     ]
    }
   ],
   "source": [
    "df['Hour'] = df['Datetime'].dt.hour\n",
    "df['Day'] = df['Datetime'].dt.day\n",
    "df['Month'] = df['Datetime'].dt.month\n",
    "df['Weekday'] = df['Datetime'].dt.weekday\n",
    "\n",
    "print(\"✅ Các đặc trưng thời gian đã được thêm:\")\n",
    "print(df[['Datetime', 'Hour', 'Day', 'Month', 'Weekday']].head())\n"
   ]
  },
  {
   "cell_type": "code",
   "execution_count": 3,
   "id": "595f94b5",
   "metadata": {},
   "outputs": [
    {
     "name": "stdout",
     "output_type": "stream",
     "text": [
      "📋 Giá trị thiếu:\n",
      "Series([], dtype: int64)\n",
      "✅ Đã loại bỏ dòng có giá trị thiếu. Số dòng còn lại: 52416\n"
     ]
    }
   ],
   "source": [
    "missing = df.isnull().sum()\n",
    "print(\"📋 Giá trị thiếu:\")\n",
    "print(missing[missing > 0])\n",
    "\n",
    "# Loại bỏ các dòng có giá trị thiếu\n",
    "df = df.dropna()\n",
    "print(f\"✅ Đã loại bỏ dòng có giá trị thiếu. Số dòng còn lại: {len(df)}\")\n"
   ]
  },
  {
   "cell_type": "code",
   "execution_count": 4,
   "id": "ccc4af57",
   "metadata": {},
   "outputs": [
    {
     "name": "stdout",
     "output_type": "stream",
     "text": [
      "✅ Đã tách đặc trưng và mục tiêu:\n",
      "X shape: (52416, 9)\n",
      "y shape: (52416,)\n"
     ]
    }
   ],
   "source": [
    "features = ['Temperature', 'Humidity', 'WindSpeed', \n",
    "            'GeneralDiffuseFlows', 'DiffuseFlows', \n",
    "            'Hour', 'Day', 'Month', 'Weekday']\n",
    "target = 'PowerConsumption_Zone1'  # Có thể thay đổi sang Zone2 hoặc Zone3\n",
    "\n",
    "X = df[features]\n",
    "y = df[target]\n",
    "\n",
    "print(\"✅ Đã tách đặc trưng và mục tiêu:\")\n",
    "print(\"X shape:\", X.shape)\n",
    "print(\"y shape:\", y.shape)\n"
   ]
  },
  {
   "cell_type": "code",
   "execution_count": 5,
   "id": "1f4c7aa7",
   "metadata": {},
   "outputs": [
    {
     "name": "stdout",
     "output_type": "stream",
     "text": [
      "✅ Đã chuẩn hóa dữ liệu:\n",
      "X_scaled shape: (52416, 9)\n",
      "Ví dụ:\n",
      "[[-2.10664461  0.35627749 -0.7989004  -0.69079687 -0.60308481 -1.66132477\n",
      "  -1.67339374 -1.60174805  1.5       ]\n",
      " [-2.13157832  0.40129059 -0.7989004  -0.69072501 -0.60335854 -1.66132477\n",
      "  -1.67339374 -1.60174805  1.5       ]\n",
      " [-2.14894594  0.40129059 -0.80017763 -0.69075527 -0.60323777 -1.66132477\n",
      "  -1.67339374 -1.60174805  1.5       ]\n",
      " [-2.18196161  0.4334428  -0.7989004  -0.69064559 -0.60326998 -1.66132477\n",
      "  -1.67339374 -1.60174805  1.5       ]\n",
      " [-2.21635293  0.4784559  -0.79975189 -0.69080822 -0.60335854 -1.66132477\n",
      "  -1.67339374 -1.60174805  1.5       ]]\n"
     ]
    }
   ],
   "source": [
    "scaler = StandardScaler()\n",
    "X_scaled = scaler.fit_transform(X)\n",
    "\n",
    "print(\"✅ Đã chuẩn hóa dữ liệu:\")\n",
    "print(\"X_scaled shape:\", X_scaled.shape)\n",
    "print(\"Ví dụ:\")\n",
    "print(X_scaled[:5])\n"
   ]
  }
 ],
 "metadata": {
  "kernelspec": {
   "display_name": "Python 3",
   "language": "python",
   "name": "python3"
  },
  "language_info": {
   "codemirror_mode": {
    "name": "ipython",
    "version": 3
   },
   "file_extension": ".py",
   "mimetype": "text/x-python",
   "name": "python",
   "nbconvert_exporter": "python",
   "pygments_lexer": "ipython3",
   "version": "3.12.7"
  }
 },
 "nbformat": 4,
 "nbformat_minor": 5
}
